{
 "cells": [
  {
   "cell_type": "code",
   "execution_count": 6,
   "id": "339ac9eb-ff0e-4107-a3f2-7ff61fa83282",
   "metadata": {},
   "outputs": [
    {
     "name": "stdout",
     "output_type": "stream",
     "text": [
      "Downloading titanic.zip to D:\\Learning\\Fast AI\\Chapter 5\n"
     ]
    },
    {
     "name": "stderr",
     "output_type": "stream",
     "text": [
      "100%|█████████████████████████████████████████████████████████████████████████████| 34.1k/34.1k [00:00<00:00, 97.3kB/s]"
     ]
    },
    {
     "name": "stdout",
     "output_type": "stream",
     "text": [
      "\n"
     ]
    },
    {
     "name": "stderr",
     "output_type": "stream",
     "text": [
      "\n"
     ]
    }
   ],
   "source": [
    "from pathlib import Path\n",
    "\n",
    "path = Path(\"titanic\")\n",
    "if not path.exists(): #download and extract titanic tabular data if not exist yet in the folder\n",
    "    import kaggle\n",
    "    import zipfile\n",
    "    kaggle.api.competition_download_cli(str(path)) \n",
    "    zipfile.ZipFile(f\"{path}.zip\").extractall(path)"
   ]
  },
  {
   "cell_type": "code",
   "execution_count": 356,
   "id": "92967fce-4434-44cd-bf35-dd93549bd2f0",
   "metadata": {},
   "outputs": [],
   "source": [
    "import torch\n",
    "import numpy as np\n",
    "import pandas as pd"
   ]
  },
  {
   "cell_type": "code",
   "execution_count": 357,
   "id": "00882e18-f547-42f3-b740-a3bc15b7d743",
   "metadata": {},
   "outputs": [],
   "source": [
    "df = pd.read_csv(path/\"train.csv\")"
   ]
  },
  {
   "cell_type": "code",
   "execution_count": 358,
   "id": "c87792a2-8987-489e-86ac-3ee74b68881b",
   "metadata": {},
   "outputs": [
    {
     "data": {
      "text/plain": [
       "PassengerId      0\n",
       "Survived         0\n",
       "Pclass           0\n",
       "Name             0\n",
       "Sex              0\n",
       "Age            177\n",
       "SibSp            0\n",
       "Parch            0\n",
       "Ticket           0\n",
       "Fare             0\n",
       "Cabin          687\n",
       "Embarked         2\n",
       "dtype: int64"
      ]
     },
     "execution_count": 358,
     "metadata": {},
     "output_type": "execute_result"
    }
   ],
   "source": [
    "df.isna().sum() #Find the sum of \"NaN\" (not a number) in the data"
   ]
  },
  {
   "cell_type": "code",
   "execution_count": 359,
   "id": "63c4bd96-a7b0-4f99-9b7c-bab0f794af0a",
   "metadata": {},
   "outputs": [
    {
     "data": {
      "text/plain": [
       "PassengerId                      1\n",
       "Survived                       0.0\n",
       "Pclass                         3.0\n",
       "Name           Abbing, Mr. Anthony\n",
       "Sex                           male\n",
       "Age                           24.0\n",
       "SibSp                          0.0\n",
       "Parch                          0.0\n",
       "Ticket                        1601\n",
       "Fare                          8.05\n",
       "Cabin                      B96 B98\n",
       "Embarked                         S\n",
       "Name: 0, dtype: object"
      ]
     },
     "execution_count": 359,
     "metadata": {},
     "output_type": "execute_result"
    }
   ],
   "source": [
    "modes = df.mode().iloc[0] #Find the most common \"value\"\n",
    "modes"
   ]
  },
  {
   "cell_type": "code",
   "execution_count": 360,
   "id": "551d6148-bab4-4a5f-972c-25af6e7cd1af",
   "metadata": {},
   "outputs": [],
   "source": [
    "df.fillna(modes, inplace=True) #Fill NaN data with the modes (inplace mean modify the original dataframe)"
   ]
  },
  {
   "cell_type": "code",
   "execution_count": 361,
   "id": "a3ed9a35-430e-41b7-8ff9-51e63c6dd880",
   "metadata": {},
   "outputs": [
    {
     "data": {
      "text/plain": [
       "PassengerId    0\n",
       "Survived       0\n",
       "Pclass         0\n",
       "Name           0\n",
       "Sex            0\n",
       "Age            0\n",
       "SibSp          0\n",
       "Parch          0\n",
       "Ticket         0\n",
       "Fare           0\n",
       "Cabin          0\n",
       "Embarked       0\n",
       "dtype: int64"
      ]
     },
     "execution_count": 361,
     "metadata": {},
     "output_type": "execute_result"
    }
   ],
   "source": [
    "df.isna().sum()"
   ]
  },
  {
   "cell_type": "code",
   "execution_count": 362,
   "id": "6fb2555b-fd13-4801-b8a3-f7ea9290064f",
   "metadata": {},
   "outputs": [
    {
     "data": {
      "text/html": [
       "<div>\n",
       "<style scoped>\n",
       "    .dataframe tbody tr th:only-of-type {\n",
       "        vertical-align: middle;\n",
       "    }\n",
       "\n",
       "    .dataframe tbody tr th {\n",
       "        vertical-align: top;\n",
       "    }\n",
       "\n",
       "    .dataframe thead th {\n",
       "        text-align: right;\n",
       "    }\n",
       "</style>\n",
       "<table border=\"1\" class=\"dataframe\">\n",
       "  <thead>\n",
       "    <tr style=\"text-align: right;\">\n",
       "      <th></th>\n",
       "      <th>PassengerId</th>\n",
       "      <th>Survived</th>\n",
       "      <th>Pclass</th>\n",
       "      <th>Age</th>\n",
       "      <th>SibSp</th>\n",
       "      <th>Parch</th>\n",
       "      <th>Fare</th>\n",
       "    </tr>\n",
       "  </thead>\n",
       "  <tbody>\n",
       "    <tr>\n",
       "      <th>count</th>\n",
       "      <td>891.000000</td>\n",
       "      <td>891.000000</td>\n",
       "      <td>891.000000</td>\n",
       "      <td>891.000000</td>\n",
       "      <td>891.000000</td>\n",
       "      <td>891.000000</td>\n",
       "      <td>891.000000</td>\n",
       "    </tr>\n",
       "    <tr>\n",
       "      <th>mean</th>\n",
       "      <td>446.000000</td>\n",
       "      <td>0.383838</td>\n",
       "      <td>2.308642</td>\n",
       "      <td>28.566970</td>\n",
       "      <td>0.523008</td>\n",
       "      <td>0.381594</td>\n",
       "      <td>32.204208</td>\n",
       "    </tr>\n",
       "    <tr>\n",
       "      <th>std</th>\n",
       "      <td>257.353842</td>\n",
       "      <td>0.486592</td>\n",
       "      <td>0.836071</td>\n",
       "      <td>13.199572</td>\n",
       "      <td>1.102743</td>\n",
       "      <td>0.806057</td>\n",
       "      <td>49.693429</td>\n",
       "    </tr>\n",
       "    <tr>\n",
       "      <th>min</th>\n",
       "      <td>1.000000</td>\n",
       "      <td>0.000000</td>\n",
       "      <td>1.000000</td>\n",
       "      <td>0.420000</td>\n",
       "      <td>0.000000</td>\n",
       "      <td>0.000000</td>\n",
       "      <td>0.000000</td>\n",
       "    </tr>\n",
       "    <tr>\n",
       "      <th>25%</th>\n",
       "      <td>223.500000</td>\n",
       "      <td>0.000000</td>\n",
       "      <td>2.000000</td>\n",
       "      <td>22.000000</td>\n",
       "      <td>0.000000</td>\n",
       "      <td>0.000000</td>\n",
       "      <td>7.910400</td>\n",
       "    </tr>\n",
       "    <tr>\n",
       "      <th>50%</th>\n",
       "      <td>446.000000</td>\n",
       "      <td>0.000000</td>\n",
       "      <td>3.000000</td>\n",
       "      <td>24.000000</td>\n",
       "      <td>0.000000</td>\n",
       "      <td>0.000000</td>\n",
       "      <td>14.454200</td>\n",
       "    </tr>\n",
       "    <tr>\n",
       "      <th>75%</th>\n",
       "      <td>668.500000</td>\n",
       "      <td>1.000000</td>\n",
       "      <td>3.000000</td>\n",
       "      <td>35.000000</td>\n",
       "      <td>1.000000</td>\n",
       "      <td>0.000000</td>\n",
       "      <td>31.000000</td>\n",
       "    </tr>\n",
       "    <tr>\n",
       "      <th>max</th>\n",
       "      <td>891.000000</td>\n",
       "      <td>1.000000</td>\n",
       "      <td>3.000000</td>\n",
       "      <td>80.000000</td>\n",
       "      <td>8.000000</td>\n",
       "      <td>6.000000</td>\n",
       "      <td>512.329200</td>\n",
       "    </tr>\n",
       "  </tbody>\n",
       "</table>\n",
       "</div>"
      ],
      "text/plain": [
       "       PassengerId    Survived      Pclass         Age       SibSp  \\\n",
       "count   891.000000  891.000000  891.000000  891.000000  891.000000   \n",
       "mean    446.000000    0.383838    2.308642   28.566970    0.523008   \n",
       "std     257.353842    0.486592    0.836071   13.199572    1.102743   \n",
       "min       1.000000    0.000000    1.000000    0.420000    0.000000   \n",
       "25%     223.500000    0.000000    2.000000   22.000000    0.000000   \n",
       "50%     446.000000    0.000000    3.000000   24.000000    0.000000   \n",
       "75%     668.500000    1.000000    3.000000   35.000000    1.000000   \n",
       "max     891.000000    1.000000    3.000000   80.000000    8.000000   \n",
       "\n",
       "            Parch        Fare  \n",
       "count  891.000000  891.000000  \n",
       "mean     0.381594   32.204208  \n",
       "std      0.806057   49.693429  \n",
       "min      0.000000    0.000000  \n",
       "25%      0.000000    7.910400  \n",
       "50%      0.000000   14.454200  \n",
       "75%      0.000000   31.000000  \n",
       "max      6.000000  512.329200  "
      ]
     },
     "execution_count": 362,
     "metadata": {},
     "output_type": "execute_result"
    }
   ],
   "source": [
    "df.describe(include=(np.number))"
   ]
  },
  {
   "cell_type": "code",
   "execution_count": 363,
   "id": "a33fd971-f9c5-4ed8-9585-706921d474ee",
   "metadata": {},
   "outputs": [
    {
     "data": {
      "image/png": "[encoded data removed]",
      "text/plain": [
       "<Figure size 640x480 with 1 Axes>"
      ]
     },
     "metadata": {},
     "output_type": "display_data"
    }
   ],
   "source": [
    "import matplotlib.pyplot as plt\n",
    "\n",
    "plt.hist(df[\"Fare\"]);\n",
    "plt.grid()\n",
    "plt.xlabel(\"Fare\");\n",
    "plt.ylabel(\"People\");"
   ]
  },
  {
   "cell_type": "markdown",
   "id": "acbc6203-492e-4f5c-a706-cba68931a208",
   "metadata": {},
   "source": [
    "# We have a \"longtail\" distrubition here so we should \"log\" it so that it normalize the \"skewed\" data"
   ]
  },
  {
   "cell_type": "code",
   "execution_count": 364,
   "id": "36937fb3-ded1-4fa1-a5c2-82021bc08f26",
   "metadata": {},
   "outputs": [],
   "source": [
    "df[\"LogFare\"] = np.log1p(df[\"Fare\"]) # log1p = log(df[\"Fare\"] + 1), bcz if a value = 0, log will give NaN"
   ]
  },
  {
   "cell_type": "code",
   "execution_count": 365,
   "id": "0443f863-22b7-46fe-be0b-5b45718f64ed",
   "metadata": {},
   "outputs": [
    {
     "data": {
      "image/png": "[encoded data removed]",
      "text/plain": [
       "<Figure size 640x480 with 1 Axes>"
      ]
     },
     "metadata": {},
     "output_type": "display_data"
    }
   ],
   "source": [
    "plt.hist(df[\"LogFare\"]);\n",
    "plt.grid()\n",
    "plt.xlabel(\"Fare\");\n",
    "plt.ylabel(\"People\");"
   ]
  },
  {
   "cell_type": "code",
   "execution_count": 366,
   "id": "b694a0c3-9342-411e-825b-c171a01a10a6",
   "metadata": {},
   "outputs": [
    {
     "data": {
      "text/html": [
       "<div>\n",
       "<style scoped>\n",
       "    .dataframe tbody tr th:only-of-type {\n",
       "        vertical-align: middle;\n",
       "    }\n",
       "\n",
       "    .dataframe tbody tr th {\n",
       "        vertical-align: top;\n",
       "    }\n",
       "\n",
       "    .dataframe thead th {\n",
       "        text-align: right;\n",
       "    }\n",
       "</style>\n",
       "<table border=\"1\" class=\"dataframe\">\n",
       "  <thead>\n",
       "    <tr style=\"text-align: right;\">\n",
       "      <th></th>\n",
       "      <th>Name</th>\n",
       "      <th>Sex</th>\n",
       "      <th>Ticket</th>\n",
       "      <th>Cabin</th>\n",
       "      <th>Embarked</th>\n",
       "    </tr>\n",
       "  </thead>\n",
       "  <tbody>\n",
       "    <tr>\n",
       "      <th>count</th>\n",
       "      <td>891</td>\n",
       "      <td>891</td>\n",
       "      <td>891</td>\n",
       "      <td>891</td>\n",
       "      <td>891</td>\n",
       "    </tr>\n",
       "    <tr>\n",
       "      <th>unique</th>\n",
       "      <td>891</td>\n",
       "      <td>2</td>\n",
       "      <td>681</td>\n",
       "      <td>147</td>\n",
       "      <td>3</td>\n",
       "    </tr>\n",
       "    <tr>\n",
       "      <th>top</th>\n",
       "      <td>Dooley, Mr. Patrick</td>\n",
       "      <td>male</td>\n",
       "      <td>347082</td>\n",
       "      <td>B96 B98</td>\n",
       "      <td>S</td>\n",
       "    </tr>\n",
       "    <tr>\n",
       "      <th>freq</th>\n",
       "      <td>1</td>\n",
       "      <td>577</td>\n",
       "      <td>7</td>\n",
       "      <td>691</td>\n",
       "      <td>646</td>\n",
       "    </tr>\n",
       "  </tbody>\n",
       "</table>\n",
       "</div>"
      ],
      "text/plain": [
       "                       Name   Sex  Ticket    Cabin Embarked\n",
       "count                   891   891     891      891      891\n",
       "unique                  891     2     681      147        3\n",
       "top     Dooley, Mr. Patrick  male  347082  B96 B98        S\n",
       "freq                      1   577       7      691      646"
      ]
     },
     "execution_count": 366,
     "metadata": {},
     "output_type": "execute_result"
    }
   ],
   "source": [
    "df.describe(include=[object]) #Return the count of \"unique\""
   ]
  },
  {
   "cell_type": "code",
   "execution_count": 367,
   "id": "01cb05df-fad1-4520-8b5a-82798e82458d",
   "metadata": {},
   "outputs": [
    {
     "data": {
      "text/plain": [
       "[np.int64(1), np.int64(2), np.int64(3)]"
      ]
     },
     "execution_count": 367,
     "metadata": {},
     "output_type": "execute_result"
    }
   ],
   "source": [
    "pclasses = sorted(df.Pclass.unique())\n",
    "pclasses"
   ]
  },
  {
   "cell_type": "code",
   "execution_count": 368,
   "id": "0034109d-c326-4b3f-af74-09e72d569a95",
   "metadata": {},
   "outputs": [
    {
     "data": {
      "text/plain": [
       "Index(['PassengerId', 'Survived', 'Name', 'Age', 'SibSp', 'Parch', 'Ticket',\n",
       "       'Fare', 'Cabin', 'LogFare', 'Sex_female', 'Sex_male', 'Pclass_1',\n",
       "       'Pclass_2', 'Pclass_3', 'Embarked_C', 'Embarked_Q', 'Embarked_S'],\n",
       "      dtype='object')"
      ]
     },
     "execution_count": 368,
     "metadata": {},
     "output_type": "execute_result"
    }
   ],
   "source": [
    "#And because we cannot multiply \"sex\" or \"embarked\" with something else\n",
    "df = pd.get_dummies(df, columns=[\"Sex\",\"Pclass\",\"Embarked\"])\n",
    "df.columns"
   ]
  },
  {
   "cell_type": "code",
   "execution_count": 369,
   "id": "17e04146-3f12-4144-ac27-7a344aed6621",
   "metadata": {},
   "outputs": [
    {
     "data": {
      "text/html": [
       "<div>\n",
       "<style scoped>\n",
       "    .dataframe tbody tr th:only-of-type {\n",
       "        vertical-align: middle;\n",
       "    }\n",
       "\n",
       "    .dataframe tbody tr th {\n",
       "        vertical-align: top;\n",
       "    }\n",
       "\n",
       "    .dataframe thead th {\n",
       "        text-align: right;\n",
       "    }\n",
       "</style>\n",
       "<table border=\"1\" class=\"dataframe\">\n",
       "  <thead>\n",
       "    <tr style=\"text-align: right;\">\n",
       "      <th></th>\n",
       "      <th>Sex_female</th>\n",
       "      <th>Sex_male</th>\n",
       "      <th>Pclass_1</th>\n",
       "      <th>Pclass_2</th>\n",
       "      <th>Pclass_3</th>\n",
       "      <th>Embarked_C</th>\n",
       "      <th>Embarked_Q</th>\n",
       "      <th>Embarked_S</th>\n",
       "    </tr>\n",
       "  </thead>\n",
       "  <tbody>\n",
       "    <tr>\n",
       "      <th>0</th>\n",
       "      <td>False</td>\n",
       "      <td>True</td>\n",
       "      <td>False</td>\n",
       "      <td>False</td>\n",
       "      <td>True</td>\n",
       "      <td>False</td>\n",
       "      <td>False</td>\n",
       "      <td>True</td>\n",
       "    </tr>\n",
       "    <tr>\n",
       "      <th>1</th>\n",
       "      <td>True</td>\n",
       "      <td>False</td>\n",
       "      <td>True</td>\n",
       "      <td>False</td>\n",
       "      <td>False</td>\n",
       "      <td>True</td>\n",
       "      <td>False</td>\n",
       "      <td>False</td>\n",
       "    </tr>\n",
       "    <tr>\n",
       "      <th>2</th>\n",
       "      <td>True</td>\n",
       "      <td>False</td>\n",
       "      <td>False</td>\n",
       "      <td>False</td>\n",
       "      <td>True</td>\n",
       "      <td>False</td>\n",
       "      <td>False</td>\n",
       "      <td>True</td>\n",
       "    </tr>\n",
       "    <tr>\n",
       "      <th>3</th>\n",
       "      <td>True</td>\n",
       "      <td>False</td>\n",
       "      <td>True</td>\n",
       "      <td>False</td>\n",
       "      <td>False</td>\n",
       "      <td>False</td>\n",
       "      <td>False</td>\n",
       "      <td>True</td>\n",
       "    </tr>\n",
       "    <tr>\n",
       "      <th>4</th>\n",
       "      <td>False</td>\n",
       "      <td>True</td>\n",
       "      <td>False</td>\n",
       "      <td>False</td>\n",
       "      <td>True</td>\n",
       "      <td>False</td>\n",
       "      <td>False</td>\n",
       "      <td>True</td>\n",
       "    </tr>\n",
       "  </tbody>\n",
       "</table>\n",
       "</div>"
      ],
      "text/plain": [
       "   Sex_female  Sex_male  Pclass_1  Pclass_2  Pclass_3  Embarked_C  Embarked_Q  \\\n",
       "0       False      True     False     False      True       False       False   \n",
       "1        True     False      True     False     False        True       False   \n",
       "2        True     False     False     False      True       False       False   \n",
       "3        True     False      True     False     False       False       False   \n",
       "4       False      True     False     False      True       False       False   \n",
       "\n",
       "   Embarked_S  \n",
       "0        True  \n",
       "1       False  \n",
       "2        True  \n",
       "3        True  \n",
       "4        True  "
      ]
     },
     "execution_count": 369,
     "metadata": {},
     "output_type": "execute_result"
    }
   ],
   "source": [
    "added_cols = ['Sex_female', 'Sex_male', 'Pclass_1','Pclass_2', 'Pclass_3', 'Embarked_C', 'Embarked_Q', 'Embarked_S']\n",
    "df[added_cols].head()\n",
    "# (head) Show the first 5 rows"
   ]
  },
  {
   "cell_type": "code",
   "execution_count": 370,
   "id": "b6f7b119-1894-495b-8a56-5bf74f205a13",
   "metadata": {},
   "outputs": [],
   "source": [
    "#Now we got numbers so that we can multiply with coeff (False = 0, True = 1)"
   ]
  },
  {
   "cell_type": "code",
   "execution_count": 371,
   "id": "0b194841-3b75-485f-939e-dc47e6485ae2",
   "metadata": {},
   "outputs": [],
   "source": [
    "from torch import tensor\n",
    "t_dep = tensor(df.Survived) #Set tensor dependent varible on the \"Survived\" (which is the thing we are trying to predict) "
   ]
  },
  {
   "cell_type": "code",
   "execution_count": 372,
   "id": "297d8725-875f-4f1a-b2a4-a9e3dac5d35c",
   "metadata": {},
   "outputs": [
    {
     "data": {
      "text/plain": [
       "tensor([[22.,  1.,  0.,  ...,  0.,  0.,  1.],\n",
       "        [38.,  1.,  0.,  ...,  1.,  0.,  0.],\n",
       "        [26.,  0.,  0.,  ...,  0.,  0.,  1.],\n",
       "        ...,\n",
       "        [24.,  1.,  2.,  ...,  0.,  0.,  1.],\n",
       "        [26.,  0.,  0.,  ...,  1.,  0.,  0.],\n",
       "        [32.,  0.,  0.,  ...,  0.,  1.,  0.]])"
      ]
     },
     "execution_count": 372,
     "metadata": {},
     "output_type": "execute_result"
    }
   ],
   "source": [
    "indep_cols = [\"Age\", \"SibSp\", \"Parch\", \"LogFare\"] + added_cols\n",
    "t_indep = tensor(df[indep_cols].astype(float).values, dtype=torch.float)\n",
    "t_indep"
   ]
  },
  {
   "cell_type": "code",
   "execution_count": 373,
   "id": "51068451-11ff-41c8-b399-6113861b6828",
   "metadata": {},
   "outputs": [
    {
     "data": {
      "text/plain": [
       "torch.Size([891, 12])"
      ]
     },
     "execution_count": 373,
     "metadata": {},
     "output_type": "execute_result"
    }
   ],
   "source": [
    "t_indep.shape"
   ]
  },
  {
   "cell_type": "code",
   "execution_count": 374,
   "id": "2bff4220-c620-42e2-a26f-bb0406099131",
   "metadata": {},
   "outputs": [
    {
     "data": {
      "text/plain": [
       "tensor([-0.4629,  0.1386,  0.2409, -0.2262, -0.2632, -0.3147,  0.4876,  0.3136,  0.2799, -0.4392,  0.2103,  0.3625])"
      ]
     },
     "execution_count": 374,
     "metadata": {},
     "output_type": "execute_result"
    }
   ],
   "source": [
    "torch.manual_seed(442)\n",
    "\n",
    "n_coeff = t_indep.shape[1]\n",
    "coeffs = torch.rand(n_coeff) - 0.5\n",
    "coeffs"
   ]
  },
  {
   "cell_type": "code",
   "execution_count": 375,
   "id": "f82a11f7-79af-4364-95a8-d93563801356",
   "metadata": {},
   "outputs": [
    {
     "data": {
      "text/plain": [
       "tensor([[-10.1838,   0.1386,   0.0000,  ...,  -0.0000,   0.0000,   0.3625],\n",
       "        [-17.5902,   0.1386,   0.0000,  ...,  -0.4392,   0.0000,   0.0000],\n",
       "        [-12.0354,   0.0000,   0.0000,  ...,  -0.0000,   0.0000,   0.3625],\n",
       "        ...,\n",
       "        [-11.1096,   0.1386,   0.4818,  ...,  -0.0000,   0.0000,   0.3625],\n",
       "        [-12.0354,   0.0000,   0.0000,  ...,  -0.4392,   0.0000,   0.0000],\n",
       "        [-14.8128,   0.0000,   0.0000,  ...,  -0.0000,   0.2103,   0.0000]])"
      ]
     },
     "execution_count": 375,
     "metadata": {},
     "output_type": "execute_result"
    }
   ],
   "source": [
    "t_indep*coeffs #multiplying matrix (t_indep) with coeffs\n",
    "#Here we use broadcasting"
   ]
  },
  {
   "cell_type": "code",
   "execution_count": 376,
   "id": "7afb95b6-267b-433b-9648-655df05cde19",
   "metadata": {},
   "outputs": [],
   "source": [
    "#Age make the first ccolumn much \"larger\" comapred to other colum"
   ]
  },
  {
   "cell_type": "code",
   "execution_count": 377,
   "id": "6012c0b7-cc23-4020-9f73-27cdb1e66324",
   "metadata": {},
   "outputs": [],
   "source": [
    "vals, indices = t_indep.max(dim=0) #Find the max along the rows (dim=0)\n",
    "t_indep = t_indep/vals"
   ]
  },
  {
   "cell_type": "code",
   "execution_count": 378,
   "id": "88cce3d5-2e26-4106-ad37-e2fd0948cac3",
   "metadata": {},
   "outputs": [
    {
     "data": {
      "text/plain": [
       "tensor([[-0.1273,  0.0173,  0.0000,  ..., -0.0000,  0.0000,  0.3625],\n",
       "        [-0.2199,  0.0173,  0.0000,  ..., -0.4392,  0.0000,  0.0000],\n",
       "        [-0.1504,  0.0000,  0.0000,  ..., -0.0000,  0.0000,  0.3625],\n",
       "        ...,\n",
       "        [-0.1389,  0.0173,  0.0803,  ..., -0.0000,  0.0000,  0.3625],\n",
       "        [-0.1504,  0.0000,  0.0000,  ..., -0.4392,  0.0000,  0.0000],\n",
       "        [-0.1852,  0.0000,  0.0000,  ..., -0.0000,  0.2103,  0.0000]])"
      ]
     },
     "execution_count": 378,
     "metadata": {},
     "output_type": "execute_result"
    }
   ],
   "source": [
    "t_indep*coeffs"
   ]
  },
  {
   "cell_type": "code",
   "execution_count": 379,
   "id": "c1a45e29-f786-4d52-9e42-a908f77079f1",
   "metadata": {},
   "outputs": [],
   "source": [
    "preds = (t_indep*coeffs).sum(axis=1)"
   ]
  },
  {
   "cell_type": "code",
   "execution_count": 380,
   "id": "645e5205-7b10-4205-87ae-2ad8b8e56f7f",
   "metadata": {},
   "outputs": [
    {
     "data": {
      "text/plain": [
       "tensor([ 0.1412, -0.5725,  0.1494,  0.2571,  0.0453, -0.0448,  0.0792,  0.2961,  0.2128, -0.5770])"
      ]
     },
     "execution_count": 380,
     "metadata": {},
     "output_type": "execute_result"
    }
   ],
   "source": [
    "preds[:10]"
   ]
  },
  {
   "cell_type": "code",
   "execution_count": 381,
   "id": "5a0a8fa7-8f99-4082-a363-20ee3005c3c0",
   "metadata": {},
   "outputs": [
    {
     "data": {
      "text/plain": [
       "tensor(0.5200)"
      ]
     },
     "execution_count": 381,
     "metadata": {},
     "output_type": "execute_result"
    }
   ],
   "source": [
    "loss = torch.abs(preds - t_dep).mean()\n",
    "loss"
   ]
  },
  {
   "cell_type": "code",
   "execution_count": 382,
   "id": "e01e0ad2-2626-4a31-9829-e1146130d299",
   "metadata": {},
   "outputs": [],
   "source": [
    "def calc_preds(coeffs, indep):\n",
    "    return (indep*coeffs).sum(axis=1)\n",
    "def calc_loss(coeffs, indep, dep):\n",
    "    return torch.abs(calc_preds(coeffs, indep) - dep).mean()"
   ]
  },
  {
   "cell_type": "code",
   "execution_count": 383,
   "id": "60a8b36e-6a8e-4e09-be1f-68fb0a44b0ec",
   "metadata": {},
   "outputs": [
    {
     "data": {
      "text/plain": [
       "tensor([-0.4629,  0.1386,  0.2409, -0.2262, -0.2632, -0.3147,  0.4876,  0.3136,  0.2799, -0.4392,  0.2103,  0.3625], requires_grad=True)"
      ]
     },
     "execution_count": 383,
     "metadata": {},
     "output_type": "execute_result"
    }
   ],
   "source": [
    "coeffs.requires_grad_() #_ at the end of \"grad\" mean it is an inplace function"
   ]
  },
  {
   "cell_type": "code",
   "execution_count": 384,
   "id": "acbc99dd-9731-4df3-adfd-6963705fb884",
   "metadata": {},
   "outputs": [
    {
     "data": {
      "text/plain": [
       "tensor(0.5200, grad_fn=<MeanBackward0>)"
      ]
     },
     "execution_count": 384,
     "metadata": {},
     "output_type": "execute_result"
    }
   ],
   "source": [
    "loss = calc_loss(coeffs, t_indep, t_dep)\n",
    "loss"
   ]
  },
  {
   "cell_type": "code",
   "execution_count": 385,
   "id": "ae4c1534-72cd-4f9b-b9c3-b1b7072a721f",
   "metadata": {},
   "outputs": [],
   "source": [
    "loss.backward()"
   ]
  },
  {
   "cell_type": "code",
   "execution_count": 386,
   "id": "263fb0cd-6a5b-423d-93cc-8f277eeec667",
   "metadata": {},
   "outputs": [
    {
     "data": {
      "text/plain": [
       "tensor([-0.0483,  0.0118, -0.0041, -0.0804, -0.1975,  0.1111, -0.1235, -0.0426,  0.0797, -0.1886, -0.0617,  0.1639])"
      ]
     },
     "execution_count": 386,
     "metadata": {},
     "output_type": "execute_result"
    }
   ],
   "source": [
    "coeffs.grad"
   ]
  },
  {
   "cell_type": "code",
   "execution_count": 387,
   "id": "6756ac5f-a127-4442-9b78-ce1aa318ae66",
   "metadata": {},
   "outputs": [
    {
     "name": "stdout",
     "output_type": "stream",
     "text": [
      "tensor(0.5056)\n"
     ]
    }
   ],
   "source": [
    "lr = 0.1\n",
    "with torch.no_grad():\n",
    "    coeffs.sub_(coeffs.grad*lr)\n",
    "    print(calc_loss(coeffs, t_indep, t_dep))"
   ]
  },
  {
   "cell_type": "code",
   "execution_count": 388,
   "id": "c56c18f9-662e-4c8d-aa59-329ef1922a13",
   "metadata": {},
   "outputs": [],
   "source": [
    "import fastbook\n",
    "from fastai.data.transforms import RandomSplitter"
   ]
  },
  {
   "cell_type": "code",
   "execution_count": 389,
   "id": "f74be7d0-1357-4856-8df0-eb39cfd3de18",
   "metadata": {},
   "outputs": [],
   "source": [
    "train_split, valid_split = RandomSplitter(seed=42)(df)"
   ]
  },
  {
   "cell_type": "code",
   "execution_count": 390,
   "id": "42743f40-e86c-4249-859f-1a5e35298893",
   "metadata": {},
   "outputs": [],
   "source": [
    "train_indep, valid_indep = t_indep[train_split], t_indep[valid_split]\n",
    "train_dep, valid_dep = t_dep[train_split], t_dep[valid_split]"
   ]
  },
  {
   "cell_type": "code",
   "execution_count": 391,
   "id": "43c592ae-1a8b-4a66-b2a0-6f5f56933794",
   "metadata": {},
   "outputs": [],
   "source": [
    "def update_coeffs(coeffs, lr):\n",
    "    coeffs.sub_(coeffs.grad*lr)"
   ]
  },
  {
   "cell_type": "code",
   "execution_count": 392,
   "id": "efb06d23-af4f-4987-abd7-06f7be6b7b48",
   "metadata": {},
   "outputs": [],
   "source": [
    "def epoch(coeffs, lr):\n",
    "    loss = calc_loss(coeffs, train_indep, train_dep)\n",
    "    loss.backward()\n",
    "    with torch.no_grad():\n",
    "        update_coeffs(coeffs, lr)\n",
    "    print(f\"{loss:.3f}\", end = \"| \")"
   ]
  },
  {
   "cell_type": "code",
   "execution_count": 393,
   "id": "ac72d2bc-7e40-4073-a0bc-cd20f2cac975",
   "metadata": {},
   "outputs": [],
   "source": [
    "def init_coeffs():\n",
    "    return (torch.rand(n_coeff) - 0.5).requires_grad_()"
   ]
  },
  {
   "cell_type": "code",
   "execution_count": 394,
   "id": "8f5ec12f-9eea-47e4-8280-764b4cacbd96",
   "metadata": {},
   "outputs": [],
   "source": [
    "def train_model(epochs = 30, lr = 0.1):\n",
    "    torch.manual_seed(442)\n",
    "    coeffs = init_coeffs()\n",
    "    for i in range (epochs):\n",
    "        epoch(coeffs, lr)\n",
    "    return coeffs"
   ]
  },
  {
   "cell_type": "code",
   "execution_count": 395,
   "id": "7f68cee2-c042-4457-a3fa-130c171536f0",
   "metadata": {},
   "outputs": [
    {
     "name": "stdout",
     "output_type": "stream",
     "text": [
      "0.518| 0.517| 0.514| 0.510| 0.504| 0.498| 0.490| 0.482| 0.473| 0.464| 0.454| 0.442| 0.427| 0.410| 0.394| 0.378| 0.362| 0.348| 0.335| 0.322| "
     ]
    }
   ],
   "source": [
    "coeffs = train_model(20, lr = 0.01)"
   ]
  },
  {
   "cell_type": "code",
   "execution_count": 396,
   "id": "23ea08dc-ba63-473d-8d94-08b64562c8b9",
   "metadata": {},
   "outputs": [
    {
     "data": {
      "text/plain": [
       "{'Age': tensor(-0.2967),\n",
       " 'SibSp': tensor(0.1170),\n",
       " 'Parch': tensor(0.2507),\n",
       " 'LogFare': tensor(0.0022),\n",
       " 'Sex_female': tensor(0.1257),\n",
       " 'Sex_male': tensor(-0.3620),\n",
       " 'Pclass_1': tensor(0.7434),\n",
       " 'Pclass_2': tensor(0.3916),\n",
       " 'Pclass_3': tensor(0.2878),\n",
       " 'Embarked_C': tensor(-0.0373),\n",
       " 'Embarked_Q': tensor(0.3018),\n",
       " 'Embarked_S': tensor(0.2110)}"
      ]
     },
     "execution_count": 396,
     "metadata": {},
     "output_type": "execute_result"
    }
   ],
   "source": [
    "def show_coeffs():\n",
    "    return dict(zip(indep_cols, coeffs.requires_grad_(False)))\n",
    "show_coeffs()"
   ]
  },
  {
   "cell_type": "markdown",
   "id": "befe8c71-322b-4430-89a9-28ec855bbe66",
   "metadata": {},
   "source": [
    "# Measure accuracy"
   ]
  },
  {
   "cell_type": "code",
   "execution_count": 397,
   "id": "c2e5e6a1-fde0-4370-8b73-4c416439d8cb",
   "metadata": {},
   "outputs": [],
   "source": [
    "preds = calc_preds(coeffs, valid_indep)"
   ]
  },
  {
   "cell_type": "code",
   "execution_count": 398,
   "id": "2296911f-b80b-4c7a-9fc2-b33af1146134",
   "metadata": {},
   "outputs": [
    {
     "data": {
      "text/plain": [
       "tensor([ True,  True,  True,  True,  True,  True, False,  True,  True, False, False, False, False,  True,  True, False])"
      ]
     },
     "execution_count": 398,
     "metadata": {},
     "output_type": "execute_result"
    }
   ],
   "source": [
    "results = valid_dep.bool() == (preds > 0.5)\n",
    "results[:16]"
   ]
  },
  {
   "cell_type": "code",
   "execution_count": 399,
   "id": "f9f34e20-fd63-4101-98fb-355e5e5c5663",
   "metadata": {},
   "outputs": [
    {
     "data": {
      "text/plain": [
       "tensor(0.7697)"
      ]
     },
     "execution_count": 399,
     "metadata": {},
     "output_type": "execute_result"
    }
   ],
   "source": [
    "results.float().mean()"
   ]
  },
  {
   "cell_type": "code",
   "execution_count": 400,
   "id": "23a072f4-84dd-476c-8985-8062ab1df2b0",
   "metadata": {},
   "outputs": [
    {
     "data": {
      "text/plain": [
       "tensor(0.7697)"
      ]
     },
     "execution_count": 400,
     "metadata": {},
     "output_type": "execute_result"
    }
   ],
   "source": [
    "def accuracy(coeffs):\n",
    "    return (valid_dep.bool()==(calc_preds(coeffs, valid_indep)>0.5)).float().mean()\n",
    "accuracy(coeffs)"
   ]
  },
  {
   "cell_type": "markdown",
   "id": "b939e96e-0e8c-42bd-9c41-e88370bcbc4c",
   "metadata": {},
   "source": [
    "# Using sigmoid because sometimes the predictions is > 1 or < 0"
   ]
  },
  {
   "cell_type": "code",
   "execution_count": 401,
   "id": "8d2b34ca-49dc-491a-92be-e49b324546f9",
   "metadata": {},
   "outputs": [
    {
     "data": {
      "text/plain": [
       "tensor([ 0.7310,  0.1394, -0.1997,  0.1754,  0.1489,  0.1303,  0.4041,  0.6254,  0.2912,  0.3447,  0.0189, -0.1431,  0.1793,  0.6271,  0.0114,  0.4267,  0.3525,  0.6786,  0.0972,  0.5103,  0.0486,\n",
       "         0.3859,  0.7452,  0.6500,  0.0634,  0.1544,  0.6781,  0.3636,  0.0746,  0.6271])"
      ]
     },
     "execution_count": 401,
     "metadata": {},
     "output_type": "execute_result"
    }
   ],
   "source": [
    "preds[:30]"
   ]
  },
  {
   "cell_type": "code",
   "execution_count": 402,
   "id": "8a4bad85-b791-449d-b930-8065393d6977",
   "metadata": {},
   "outputs": [],
   "source": [
    "def calc_preds(coeffs, indep):\n",
    "    return torch.sigmoid((coeffs*indep).sum(axis=1))\n",
    "#Re define the predictions function with sigmoid adding in it"
   ]
  },
  {
   "cell_type": "code",
   "execution_count": 403,
   "id": "a606e586-9df1-463b-8e51-c173d02f164e",
   "metadata": {},
   "outputs": [
    {
     "name": "stdout",
     "output_type": "stream",
     "text": [
      "0.503| 0.461| 0.391| 0.336| 0.306| 0.285| 0.265| 0.245| 0.228| 0.217| 0.210| 0.206| 0.205| 0.204| 0.204| 0.204| 0.204| 0.205| 0.205| 0.205| 0.205| 0.204| 0.204| 0.203| 0.202| 0.201| 0.200| 0.199| 0.197| 0.196| "
     ]
    }
   ],
   "source": [
    "coeffs = train_model(lr = 2)"
   ]
  },
  {
   "cell_type": "code",
   "execution_count": 404,
   "id": "b3c1671f-eefb-4ee8-b2ee-7e91f5180398",
   "metadata": {},
   "outputs": [
    {
     "data": {
      "text/plain": [
       "tensor(0.8258)"
      ]
     },
     "execution_count": 404,
     "metadata": {},
     "output_type": "execute_result"
    }
   ],
   "source": [
    "accuracy(coeffs)"
   ]
  },
  {
   "cell_type": "markdown",
   "id": "fc0cc31d-af1e-47b5-9620-7d1cc96edfc9",
   "metadata": {},
   "source": [
    "\n",
    "\n",
    "\n",
    "\n",
    "\n",
    "\n",
    "\n",
    "\n",
    "# Try using matrix product"
   ]
  },
  {
   "cell_type": "markdown",
   "id": "0723a424-fc71-420b-961f-e7b3d6544aed",
   "metadata": {},
   "source": [
    "### (valid_indep * coeffs).sum(axis=1) is the same with valid_indep@coeffs"
   ]
  },
  {
   "cell_type": "code",
   "execution_count": 406,
   "id": "fd8b4f2f-52b6-4c6d-b900-bb27e2066b77",
   "metadata": {},
   "outputs": [],
   "source": [
    "def calc_preds(coeffs, indep):\n",
    "    return torch.sigmoid(indep@coeffs)"
   ]
  },
  {
   "cell_type": "code",
   "execution_count": 409,
   "id": "605c4970-1736-413d-bfb4-d28b09bcddba",
   "metadata": {},
   "outputs": [],
   "source": [
    "def init_coeffs():\n",
    "    return (torch.rand(n_coeff, 1)*0.1).requires_grad_()"
   ]
  },
  {
   "cell_type": "code",
   "execution_count": 410,
   "id": "cba46dcc-accb-4f91-9406-fe4858df6802",
   "metadata": {},
   "outputs": [],
   "source": [
    "train_dep = train_dep[:, None] #Create another\"dimension\" by indexing a \"non -existent\" dimension\n",
    "valid_dep = valid_dep[:, None]"
   ]
  },
  {
   "cell_type": "markdown",
   "id": "d2e367b9-e126-4c3d-918c-1ba985f6d482",
   "metadata": {},
   "source": [
    "# Create a neural network"
   ]
  },
  {
   "cell_type": "code",
   "execution_count": 413,
   "id": "80751e92-0ded-4fb1-8ba3-129c55723e6b",
   "metadata": {},
   "outputs": [],
   "source": [
    "def init_coeffs(n_hiddens=20):\n",
    "    layer1 = (torch.rand(n_coeff, n_hiddens)-0.5)/n_hiddens\n",
    "    layer2 = torch.rand(n_hiddens, 1) - 0.3\n",
    "    const = torch.rand(1)[0]\n",
    "    return layer1.requires_grad_(), layer2.requires_grad_(), const.requires_grad_()"
   ]
  },
  {
   "cell_type": "code",
   "execution_count": 421,
   "id": "6385b4f9-65d7-416c-84fc-54715ddd5387",
   "metadata": {},
   "outputs": [],
   "source": [
    "import torch.nn.functional as F\n",
    "\n",
    "def calc_preds(coeffs, indep):\n",
    "    l1,l2,const = coeffs\n",
    "    res = F.relu(indep@l1)\n",
    "    res = res@l2 + const\n",
    "    return torch.sigmoid(res)"
   ]
  },
  {
   "cell_type": "code",
   "execution_count": 422,
   "id": "b1b1e464-5b9b-46e0-af65-be38e878c305",
   "metadata": {},
   "outputs": [],
   "source": [
    "def update_coeffs(coeffs, lr):\n",
    "    for layer in coeffs:\n",
    "        layer.sub_(layer.grad*lr)"
   ]
  },
  {
   "cell_type": "code",
   "execution_count": 423,
   "id": "f379fbe5-8530-4ea9-98d9-bad3906299ef",
   "metadata": {},
   "outputs": [
    {
     "name": "stdout",
     "output_type": "stream",
     "text": [
      "0.544| 0.533| 0.511| 0.467| 0.392| 0.302| 0.252| 0.225| 0.209| 0.203| 0.201| 0.200| 0.196| 0.193| 0.192| 0.192| 0.192| 0.192| 0.192| 0.192| 0.192| 0.192| 0.192| 0.192| 0.192| 0.192| 0.192| 0.192| 0.192| 0.192| "
     ]
    }
   ],
   "source": [
    "coeffs = train_model(lr=1.4)"
   ]
  },
  {
   "cell_type": "code",
   "execution_count": 424,
   "id": "2b28e91e-f343-4e02-9ace-53ff19bef478",
   "metadata": {},
   "outputs": [
    {
     "data": {
      "text/plain": [
       "tensor(0.8258)"
      ]
     },
     "execution_count": 424,
     "metadata": {},
     "output_type": "execute_result"
    }
   ],
   "source": [
    "accuracy(coeffs)"
   ]
  },
  {
   "cell_type": "markdown",
   "id": "8fa91878-0ad5-4778-a4c3-2d674c78e0ea",
   "metadata": {},
   "source": [
    "# Try with more layers"
   ]
  },
  {
   "cell_type": "code",
   "execution_count": 442,
   "id": "56ffc1e4-c217-411a-bf54-b6c5d7eecaa2",
   "metadata": {},
   "outputs": [],
   "source": [
    "def init_coeffs():\n",
    "    hiddens = [10, 10]\n",
    "    sizes = [n_coeff] + hiddens + [1]\n",
    "    n = len(sizes)\n",
    "    layers = [(torch.rand(sizes[i], sizes[i+1]) - 0.3) / sizes[i+1]*4 for i in range(n-1)]\n",
    "    consts = [(torch.rand(1)[0]-0.5)*0.1 for i in range(n-1)]\n",
    "    for l in layers + consts:\n",
    "        l.requires_grad_()\n",
    "    return layers, consts"
   ]
  },
  {
   "cell_type": "code",
   "execution_count": 443,
   "id": "462f5853-587e-4100-9735-b87e213f6683",
   "metadata": {},
   "outputs": [],
   "source": [
    "def calc_preds(coeffs, indep):\n",
    "    layers, consts = coeffs\n",
    "    n = len(layers)\n",
    "    res = indep\n",
    "    for index, layer in enumerate(layers):\n",
    "        res = res@layer + consts[index]\n",
    "        if index != n-1:\n",
    "            res = F.relu(res)\n",
    "    return torch.sigmoid(res)"
   ]
  },
  {
   "cell_type": "code",
   "execution_count": 444,
   "id": "1fc13b74-2a1b-48c6-9012-5d232ae57ccb",
   "metadata": {},
   "outputs": [],
   "source": [
    "def update_coeffs(coeffs, lr):\n",
    "    layers, consts = coeffs\n",
    "    for layer in layers+consts:\n",
    "        layer.sub_(layer.grad*lr)"
   ]
  },
  {
   "cell_type": "code",
   "execution_count": 445,
   "id": "f44a4d3a-b5b8-4e96-b44c-c1073988e406",
   "metadata": {},
   "outputs": [
    {
     "name": "stdout",
     "output_type": "stream",
     "text": [
      "0.514| 0.463| 0.348| 0.318| 0.208| 0.220| 0.224| 0.223| 0.217| 0.215| 0.215| 0.215| 0.215| 0.215| 0.215| 0.215| 0.215| 0.215| 0.215| 0.215| 0.215| 0.215| 0.215| 0.215| 0.215| 0.215| 0.215| 0.215| 0.215| 0.215| "
     ]
    }
   ],
   "source": [
    "coeffs = train_model(lr = 1.4)"
   ]
  },
  {
   "cell_type": "code",
   "execution_count": 446,
   "id": "4b7ae626-c674-4c58-98de-8908715c64f8",
   "metadata": {},
   "outputs": [
    {
     "data": {
      "text/plain": [
       "tensor(0.7921)"
      ]
     },
     "execution_count": 446,
     "metadata": {},
     "output_type": "execute_result"
    }
   ],
   "source": [
    "accuracy(coeffs)"
   ]
  },
  {
   "cell_type": "code",
   "execution_count": null,
   "id": "dbee7f60-3059-4db9-bb76-c7c46beb7469",
   "metadata": {},
   "outputs": [],
   "source": []
  }
 ],
 "metadata": {
  "kernelspec": {
   "display_name": "Python 3 (ipykernel)",
   "language": "python",
   "name": "python3"
  },
  "language_info": {
   "codemirror_mode": {
    "name": "ipython",
    "version": 3
   },
   "file_extension": ".py",
   "mimetype": "text/x-python",
   "name": "python",
   "nbconvert_exporter": "python",
   "pygments_lexer": "ipython3",
   "version": "3.12.6"
  }
 },
 "nbformat": 4,
 "nbformat_minor": 5
}
